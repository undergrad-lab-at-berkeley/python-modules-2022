{
 "cells": [
  {
   "cell_type": "code",
   "execution_count": null,
   "id": "0217fe91",
   "metadata": {},
   "outputs": [],
   "source": [
    "import tests"
   ]
  },
  {
   "cell_type": "markdown",
   "id": "5976e37a",
   "metadata": {},
   "source": [
    "# Question 1: Mary Had a Little Lambda  (5 Points)\n",
    "\n",
    "The wavelengths of emission lines in the spectrum of the hydrogen atom can be given by the Rydberg Formula below:\n"
   ]
  },
  {
   "cell_type": "markdown",
   "id": "1b225bf3",
   "metadata": {},
   "source": [
    "\n",
    "<center>\n",
    "$\\frac{1}{\\lambda}=R\\left(\\frac{1}{m^2}-\\frac{1}{n^2}\\right)$\n",
    "</center>\n",
    "\n",
    "Write a program that prints out a wavelength for each combination of values of m and n where m is in the range of 1 to 4 and n is in the range of (m+1) to (m+6)"
   ]
  },
  {
   "cell_type": "code",
   "execution_count": null,
   "id": "ad4a11a7",
   "metadata": {},
   "outputs": [],
   "source": [
    "R = 1.097e-2\n",
    "for m in ...:\n",
    "    print(\"Series for m =\",m)\n",
    "    for n in ...:\n",
    "        inverse_lambda = ...\n",
    "        print(\" \",1/inverse_lambda,\" nm\")"
   ]
  },
  {
   "cell_type": "markdown",
   "id": "b2680951",
   "metadata": {},
   "source": [
    "# Question 2: A Cat called Alan \n",
    "\n",
    "Catalan Numbers (denoted by $C_n$) are a sequence of integers that play an important role in quantum mechanics and the theory of disordered systems. The ${n+1}th$ Catalan Number is given by the following formula:"
   ]
  },
  {
   "cell_type": "markdown",
   "id": "a49e714a",
   "metadata": {},
   "source": [
    "<center>\n",
    "$C_{n+1}=\\frac{4n+2}{n+2}C_n$\n",
    "</center>\n",
    "\n",
    "The 0th Catalan Number is 1. The 1st Catalan Number is 1. The Second Catalan Number is 2 and so-on. Write a program that returns a list of Catalan Numbers. \n",
    "\n"
   ]
  },
  {
   "cell_type": "markdown",
   "id": "572ec411",
   "metadata": {},
   "source": [
    "Write a program that returns a list of Catalan Numbers till the max_number is reached. For instance, catalan(4) should return [1.0, 1.0, 2.0, 5.0, 14.0] catalan(5) should return [1.0, 1.0, 2.0, 5.0, 14.0, 42.0]."
   ]
  },
  {
   "cell_type": "code",
   "execution_count": null,
   "id": "04b9c5d9",
   "metadata": {},
   "outputs": [],
   "source": [
    "def catalan(max_number):\n",
    "    ..."
   ]
  },
  {
   "cell_type": "code",
   "execution_count": null,
   "id": "9611396b",
   "metadata": {},
   "outputs": [],
   "source": [
    "tests.run('test_cat', catalan)"
   ]
  },
  {
   "cell_type": "markdown",
   "id": "c83c93f8",
   "metadata": {},
   "source": [
    "# Question 2 (do EITHER part (a) or part (b))."
   ]
  },
  {
   "cell_type": "markdown",
   "id": "5f403f89",
   "metadata": {},
   "source": [
    "# (a) The Prime Vinci Code (10 Points)\n",
    "\n",
    "Write a function that takes in an argument and returns a list of its prime factors. \n",
    "\n",
    "<b>Hints and Further Explanation</b>\n",
    "\n",
    "<li>The easiest way to calculate the prime factor of a number is to divide repeatedly by all integers from 2 up to the number itself and to check if the remainder is zero. </li>\n",
    "<li> Remember we are finding prime factors and NOT prime numbers </li>\n",
    "<li> For instance, factors(10) should give (2, 5), factors(9) should give (3,3), factors(81) should give (3,3,3,3)</li>"
   ]
  },
  {
   "cell_type": "code",
   "execution_count": null,
   "id": "dcc6e8ac",
   "metadata": {},
   "outputs": [],
   "source": [
    "def factors(n):\n",
    "    ..."
   ]
  },
  {
   "cell_type": "code",
   "execution_count": null,
   "id": "6d234c4e",
   "metadata": {},
   "outputs": [],
   "source": [
    "tests.run('test_2a', factors)"
   ]
  },
  {
   "cell_type": "markdown",
   "id": "ba27e456",
   "metadata": {},
   "source": [
    "Run the following cell below:"
   ]
  },
  {
   "cell_type": "markdown",
   "id": "872a8b22",
   "metadata": {},
   "source": [
    "# (b) Candy Land (10 Points)\n",
    "\n",
    "Given the following three values, write a function that finds the total number of maximum candies you can eat.\n",
    "\n",
    "coins: Money you have to buy candies\n",
    "price: Price of a candy\n",
    "wrappers: Number of wrappers to be returned for getting one extra candy.\n",
    "Assume that all given values are positive integers and greater than 1.\n",
    "\n",
    "For example:\n",
    "Input: coins = 20, price = 5, wrappers = 2\n",
    "\n",
    "Output: 7\n",
    "\n",
    "Price of a candy is 5 coins. You can buy 4 candies from amount 20. You can return 4 wrappers back and get 2 more candies. Then you can return 2 wrappers and get 1 more candy.\n",
    "\n"
   ]
  },
  {
   "cell_type": "code",
   "execution_count": null,
   "id": "4893706e",
   "metadata": {},
   "outputs": [],
   "source": [
    "import math\n",
    "def candy(coins, price, wrappers):\n",
    "    ..."
   ]
  },
  {
   "cell_type": "code",
   "execution_count": null,
   "id": "1a383f8d",
   "metadata": {},
   "outputs": [],
   "source": [
    "tests.run('test_2b', candy)"
   ]
  },
  {
   "cell_type": "markdown",
   "id": "17743a1a",
   "metadata": {},
   "source": [
    "# Question 3: Madelung Constant (25 points)\n",
    "\n",
    "In condensed matter physics the Madelung constant gives the total electric potential felt by an atom in a solid. It depends on the charges on the other atoms nearby and their locations.\n",
    "\n",
    "Consider for instance solid sodium chloride—table salt. The sodium chloride crystal has atoms arranged on a cubic lattice, but with alternating sodium and chlorine atoms, the sodium ones having a single positive charge +e and the chlorine ones a single negative charge −e, where e is the charge on the electron. \n",
    "\n",
    "<b> If we label each position on the lattice by three integer coordinates (i, j, k)</b>, then the sodium atoms fall at positions where i + j + k is even, and the chlorine atoms at positions where i + j + k is odd\n",
    "\n",
    "Consider a sodium atom at the origin, i = j = k = 0, and let us calculate the Madelung constant.\n",
    "\n",
    "If the spacing of atoms on the lattice is <b>a</b>, then the distance from the origin to the atom at position (i, j, k) is:\n",
    "\n",
    "<center>$\\sqrt{(ia)^2+(ja)^2+(ka)^2}=a\\sqrt{i^2+j^2+k^2}$ </center>\n",
    "\n",
    "and the potential at the origin created by such an atom is\n",
    "\n",
    "<center>$V(i, j, k) = ±\\frac{e}{4\\pi\\epsilon_0a}\\sqrt{i^2+j^2+k^2}$ </center>\n",
    "\n",
    "with $\\epsilon_0$ being permittivity of the vaccuum  and the sign of the expression depending on whether i + j + k is even or odd. <b> The total potential felt by the sodium atom is then the sum of this quantity over all other atoms</b>. Let us assume a cubic box around the sodium at the origin, with L atoms in all directions. Then, taking the sum, the expression for V is simplified to:\n",
    "\n",
    "\n",
    "<center>$V=\\frac{e}{4\\pi\\epsilon_0a}M$</center>\n",
    "\n",
    "where M is the Madelung constant.\n",
    "\n",
    "Write a program to calculate and print the Madelung constant for sodium chloride. Do not change the given constants. \n",
    "\n",
    "<b>Further Explanation</b>\n",
    "<li> Use the pi and sqrt functions from numpy and consider using conditionals in your code. </li>\n",
    "<li> The sodium atom is at the center of the cube. Its i, j and k co-ordinates vary from -L to L+1.\n",
    "<li> If (i+j+k) is even, your total electric potential changes by a positive amount. If (i+j+k) is odd, your total electric potential changes by a negative amount.</li>\n",
    "<li> After you calculate the total electric potential for the atom, you calculate the Madelung Constant using the formula above.</li>\n"
   ]
  },
  {
   "cell_type": "code",
   "execution_count": null,
   "id": "dd74d92e",
   "metadata": {},
   "outputs": [],
   "source": [
    "import numpy as np\n",
    "def madelung_constant(number_of_atoms, distance_between_atoms):\n",
    "    e = -1.602176634e-19 # electron chanrge on coulomb\n",
    "    e_0 = 8.8541878128e-12 # permittivity of the vacuum \n",
    "    V_total = 0 # total electric potential\n",
    "    a = distance_between_atoms\n",
    "    L = number_of_atoms\n",
    "    for i in range(-L, L+1):\n",
    "        for j...:\n",
    "            for k...:\n",
    "                ...\n",
    "    M_constant = ...#Madelung Constant\n",
    "    return M_constant"
   ]
  },
  {
   "cell_type": "code",
   "execution_count": null,
   "id": "a99309c1",
   "metadata": {},
   "outputs": [],
   "source": [
    "# Run the code below. \n",
    "#The code below makes calculations depending on the size of the sodium chloride lattance (number_of_atoms*2)**3\n",
    "print(madelung_constant(10,0.000000000564))"
   ]
  },
  {
   "cell_type": "markdown",
   "id": "c9b3b996",
   "metadata": {},
   "source": [
    "# Submission"
   ]
  },
  {
   "cell_type": "markdown",
   "id": "85e4e968",
   "metadata": {},
   "source": [
    "Check to make sure that you have answered all questions. Run all the cells so that all output is visible. Finally, export this notebook as a PDF (File/Download As/PDF via LaTeX (.pdf)) and submit to bCourses.\n",
    "\n"
   ]
  },
  {
   "cell_type": "markdown",
   "id": "2a54c90d",
   "metadata": {},
   "source": [
    "### References"
   ]
  },
  {
   "cell_type": "markdown",
   "id": "4043f5b6",
   "metadata": {},
   "source": [
    "Assignment adapted from Computational Physics by Mark Newman."
   ]
  },
  {
   "cell_type": "markdown",
   "id": "937d2afa",
   "metadata": {},
   "source": [
    "Last Updated: Jan 2023"
   ]
  }
 ],
 "metadata": {
  "kernelspec": {
   "display_name": "Python 3",
   "language": "python",
   "name": "python3"
  },
  "language_info": {
   "codemirror_mode": {
    "name": "ipython",
    "version": 3
   },
   "file_extension": ".py",
   "mimetype": "text/x-python",
   "name": "python",
   "nbconvert_exporter": "python",
   "pygments_lexer": "ipython3",
   "version": "3.8.8"
  }
 },
 "nbformat": 4,
 "nbformat_minor": 5
}
