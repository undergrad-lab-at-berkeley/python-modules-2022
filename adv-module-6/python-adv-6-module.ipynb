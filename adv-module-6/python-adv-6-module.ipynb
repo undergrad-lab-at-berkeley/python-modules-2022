{
 "cells": [
  {
   "cell_type": "markdown",
   "metadata": {},
   "source": [
    "# Advanced Python Module 6: Review of Python Modules 1-4\n",
    "\n",
    "In this module, we will review the topics covered in modules 1-4 last semester."
   ]
  },
  {
   "cell_type": "code",
   "execution_count": null,
   "metadata": {
    "ExecuteTime": {
     "end_time": "2021-12-26T15:56:18.036998Z",
     "start_time": "2021-12-26T15:56:17.861729Z"
    }
   },
   "outputs": [],
   "source": [
    "# %load_ext autoreload\n",
    "# %autoreload 2\n",
    "import tests"
   ]
  },
  {
   "cell_type": "markdown",
   "metadata": {},
   "source": [
    "## Question 1: Chió Pivotal Condensation\n",
    "\n",
    "*Note: you may not use Numpy for this exercise*\n",
    "\n",
    "Chió's method is an algorithm for computing the determinant of an nxn matrix ``A`` by condensing it as the determinant of a smaller (n-1)x(n-1) matrix ``B``. In this problem, we will guide you through the steps of using recursion to implement Chió's method. Recursion is a technique of solving a problem in a manner that depends on simpler instances of the same problem. \n",
    "\n",
    "The determinant of a matrix ``A`` is given by [[1]](https://mathworld.wolfram.com/ChioPivotalCondensation.html),\n",
    "\n",
    "![](chio.png)\n"
   ]
  },
  {
   "cell_type": "markdown",
   "metadata": {},
   "source": [
    "### Question 1a: Base case\n",
    "\n",
    "We begin by implementing the base case, or the most simple instance of the problem when the solution is immediately known. In the case of calculating a determinant, their are 2 bases cases: the 1x1 and 2x2 matrices. \n",
    "\n",
    "$$\\det(a_{11}) = a_{11}$$\n",
    "\n",
    "$$\\det \n",
    "\\begin{pmatrix}\n",
    "a_{11}&a_{12}\\\\\n",
    "a_{21}&a_{22}\n",
    "\\end{pmatrix}\n",
    "= a_{11}a_{22}-a_{12}a_{21}\n",
    "$$\n",
    "\n",
    "Implement ``det`` which calculates the determinant of ``A``, a matrix that is either 1x1 or 2x2."
   ]
  },
  {
   "cell_type": "markdown",
   "metadata": {},
   "source": [
    "**HINTS:**\n",
    "\n",
    "\n",
    "A matrix in python can be thought of as a list of lists. Every element of the main list is also a list. So a 2x2 matrix would look something like [[1,2], [3,4]]. A 3x3 matrix would look like [[1, 2, 3], [4, 5, 6], [7, 8, 9]] and a 2x3 matrix would look like [[1, 2, 3], [4, 5, 6]]. If you're a bit shaky on list indexing make sure to brush up on before attempting this problem!\n",
    "\n",
    "Some preliminary questions to think about:\n",
    "1. If you are given a m x n matrix, how many lists will the main list contain, and how many elements will be stored in one list inside the main list?\n",
    "\n",
    "\n",
    "2. If you are given a 3 x 4 matrix, how can you access:\n",
    "\n",
    "    a) a_12\n",
    "    \n",
    "    b) a_34\n",
    "    \n",
    "    c) a_21"
   ]
  },
  {
   "cell_type": "code",
   "execution_count": null,
   "metadata": {
    "ExecuteTime": {
     "end_time": "2021-12-26T16:00:56.425923Z",
     "start_time": "2021-12-26T16:00:56.397480Z"
    }
   },
   "outputs": [],
   "source": [
    "def det(A):\n",
    "    ...\n",
    "    ..."
   ]
  },
  {
   "cell_type": "code",
   "execution_count": null,
   "metadata": {
    "ExecuteTime": {
     "end_time": "2021-12-26T16:00:57.627786Z",
     "start_time": "2021-12-26T16:00:57.590372Z"
    }
   },
   "outputs": [],
   "source": [
    "# test your work!\n",
    "tests.run('test_1a', det)"
   ]
  },
  {
   "cell_type": "markdown",
   "metadata": {},
   "source": [
    "### Question 1b\n",
    "\n",
    "Now let's examine the case of a general nxn matrix. Here's a general outline for your code:\n",
    "1. Copy over your code from part a. We know that this returns a result if the matrix is 1x1 or 2x2, so we know that the matrix who's determinant we wish to calculate is at least 3x3\n",
    "2. You are given ``A`` an n by n matrix. Compute the matrix (n-1) by (n-1) matrix ``B``.\n",
    "3. Return the determinant of ``B`` (which can be computed by calling this very ``det`` function) divided by $a_{11}^{n-2}$"
   ]
  },
  {
   "cell_type": "code",
   "execution_count": null,
   "metadata": {
    "ExecuteTime": {
     "end_time": "2021-12-26T16:03:42.759895Z",
     "start_time": "2021-12-26T16:03:42.726716Z"
    }
   },
   "outputs": [],
   "source": [
    "import math\n",
    "\n",
    "# the dots are not representative of how many lines your code should take. Feel free to use as many lines as you need.\n",
    "\n",
    "def det(A):\n",
    "    n = len(A)\n",
    "    ...\n",
    "    ...\n",
    "    ...\n",
    "    B = [] \n",
    "    ...\n",
    "    ...\n",
    "    ...\n",
    "    return det(B)/math.pow(A[0][0], n-2) # this line should make sense and you should not need to change it."
   ]
  },
  {
   "cell_type": "code",
   "execution_count": null,
   "metadata": {
    "ExecuteTime": {
     "end_time": "2021-12-26T16:03:43.472288Z",
     "start_time": "2021-12-26T16:03:43.432463Z"
    }
   },
   "outputs": [],
   "source": [
    "# test your work!\n",
    "tests.run('test_1b', det)"
   ]
  },
  {
   "cell_type": "markdown",
   "metadata": {},
   "source": [
    "## Question 2: Calculating atomic mass\n",
    "\n",
    "Implement a function ``mass`` that calculates the atomic mass of a chemical compound. We will adopt the notation for ``compound`` where all subscripts are removed. For example,\n",
    "\n",
    "$\\text{H}_2 \\mapsto \\text{''H2\"}\\qquad \\text{(2.016 amu)}$\n",
    "\n",
    "$\\mathrm{(NH_4)_2SO_4} \\mapsto \\text{''(NH4)2SO4\"}\\qquad \\text{(132.134 amu)}$\n",
    "\n",
    "To assist you, we have written a piece of starter-code (below) that loads the atomic symbols and masses into a dictionary ``elements``."
   ]
  },
  {
   "cell_type": "code",
   "execution_count": null,
   "metadata": {
    "ExecuteTime": {
     "end_time": "2021-12-26T16:06:04.077234Z",
     "start_time": "2021-12-26T16:06:02.909906Z"
    }
   },
   "outputs": [],
   "source": [
    "import pandas as pd\n",
    "df = pd.read_csv('elements.csv', delimiter=',')\n",
    "elements = dict(zip(df['symbol'], df['atomic_mass']))"
   ]
  },
  {
   "cell_type": "markdown",
   "metadata": {},
   "source": [
    "### Question 2a\n",
    "\n",
    "Let's build the function up one step at a time. First, implement ``mass`` so that it returns the correct result for compounds with *single character* elements (e.g. $\\mathrm{A_xB_y}$ or $\\mathrm{H_2}$)\n",
    "\n",
    "Hints:\n",
    "- We suggest using recursion (what is the base case?)\n",
    "- You may need to use functions not discussed in lecture. Google is your friend! We found .isdigit() to be useful in our implementation.\n",
    "- You may assume that ``compound`` is a valid compound (you do not need to check)."
   ]
  },
  {
   "cell_type": "code",
   "execution_count": null,
   "metadata": {
    "ExecuteTime": {
     "end_time": "2021-12-26T16:07:18.635458Z",
     "start_time": "2021-12-26T16:07:18.603257Z"
    }
   },
   "outputs": [],
   "source": [
    "def mass(compound):\n",
    "    #should return the mass of the compound. Take as many lines as you need.\n",
    "    ...\n",
    "    ...\n",
    "    ...\n",
    "    ..."
   ]
  },
  {
   "cell_type": "code",
   "execution_count": null,
   "metadata": {
    "ExecuteTime": {
     "end_time": "2021-12-26T16:07:19.135890Z",
     "start_time": "2021-12-26T16:07:19.089296Z"
    }
   },
   "outputs": [],
   "source": [
    "tests.run('test_2a', mass)"
   ]
  },
  {
   "cell_type": "markdown",
   "metadata": {},
   "source": [
    "### Question 2b\n",
    "\n",
    "Now, modify your function so that it returns the correct result for elements with 1 *or* 2-charactered elements (e.g. $\\mathrm{Aa_xB_y}$ or $\\mathrm{NaOH}$). \n",
    "\n",
    "Hint: if your solution in part a has a good structure, you shouldn't need to modify much. We added 3 lines of code."
   ]
  },
  {
   "cell_type": "code",
   "execution_count": null,
   "metadata": {
    "ExecuteTime": {
     "end_time": "2021-12-26T16:08:14.157791Z",
     "start_time": "2021-12-26T16:08:14.102919Z"
    },
    "scrolled": true
   },
   "outputs": [],
   "source": [
    "def mass(compound):\n",
    "    "
   ]
  },
  {
   "cell_type": "code",
   "execution_count": null,
   "metadata": {
    "ExecuteTime": {
     "end_time": "2021-12-26T16:08:14.675277Z",
     "start_time": "2021-12-26T16:08:14.639169Z"
    }
   },
   "outputs": [],
   "source": [
    "tests.run('test_2b', mass)"
   ]
  },
  {
   "cell_type": "markdown",
   "metadata": {},
   "source": [
    "### Question 2c\n",
    "\n",
    "Finally, modify your function so that it can also handle formulas with parenthesis (e.g. $\\mathrm{(NH_4)_2SO_4}$)."
   ]
  },
  {
   "cell_type": "code",
   "execution_count": null,
   "metadata": {
    "ExecuteTime": {
     "end_time": "2021-12-26T16:09:29.207652Z",
     "start_time": "2021-12-26T16:09:29.121469Z"
    }
   },
   "outputs": [],
   "source": [
    "def mass(compound):\n",
    "    "
   ]
  },
  {
   "cell_type": "code",
   "execution_count": null,
   "metadata": {
    "ExecuteTime": {
     "end_time": "2021-12-26T16:09:29.680988Z",
     "start_time": "2021-12-26T16:09:29.640341Z"
    }
   },
   "outputs": [],
   "source": [
    "tests.run('test_2c', mass)"
   ]
  },
  {
   "cell_type": "markdown",
   "metadata": {},
   "source": [
    "## Submission\n",
    "\n",
    "Check to make sure that you have answered all questions. Run all the cells so that all output is visible. Finally, export this notebook as a PDF (File/Download As/PDF via LaTeX (.pdf)) and submit to bCourses.\n",
    "\n",
    "Created and edited by the ULAB staff. Last updated: December 2021"
   ]
  }
 ],
 "metadata": {
  "kernelspec": {
   "display_name": "Python 3 (ipykernel)",
   "language": "python",
   "name": "python3"
  },
  "language_info": {
   "codemirror_mode": {
    "name": "ipython",
    "version": 3
   },
   "file_extension": ".py",
   "mimetype": "text/x-python",
   "name": "python",
   "nbconvert_exporter": "python",
   "pygments_lexer": "ipython3",
   "version": "3.8.5"
  }
 },
 "nbformat": 4,
 "nbformat_minor": 2
}
