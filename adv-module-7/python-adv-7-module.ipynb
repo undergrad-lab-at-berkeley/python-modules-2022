{
 "cells": [
  {
   "cell_type": "markdown",
   "metadata": {},
   "source": [
    "# Advanced Python Module 7: Python Review\n",
    "\n",
    "In this module, we will review the topics in numpy."
   ]
  },
  {
   "cell_type": "code",
   "execution_count": null,
   "metadata": {
    "ExecuteTime": {
     "end_time": "2021-12-29T01:43:46.653326Z",
     "start_time": "2021-12-29T01:43:45.482653Z"
    }
   },
   "outputs": [],
   "source": [
    "# %load_ext autoreload\n",
    "# %autoreload 2\n",
    "import tests\n",
    "import numpy as np\n",
    "import matplotlib.pyplot as plt\n",
    "import matplotlib.animation as animation\n",
    "from scipy.sparse import diags\n",
    "from IPython import display"
   ]
  },
  {
   "cell_type": "markdown",
   "metadata": {},
   "source": [
    "## Q1: 1D Numerical simulation of the Schrödinger equation \n",
    "\n",
    "In the quantum mechanical model, the wave function $\\psi(x) = \\langle x|\\psi\\rangle$ are the complex-valued expansion coefficients of the state of the system in the position basis. In other words, the probability density of finding a particle at some position $x_0$ is given by $|\\psi(x_0)|^2$. The wave function evolves with time (i.e. the probability of finding a particle at $[x, x+dx]$ changes over time) according the Schrödinger equation,\n",
    "\n",
    "$$i\\hbar \\frac{\\partial\\psi}{\\partial t} = H\\psi$$\n",
    "\n",
    "Where $H$ is the Hamiltonian, a term that represents the total energy of the system. If we know the initial wave function $\\psi(x,t=0)$, then we can numerically evolve the Schrödinger equation for the wave function at some later time. This is precisely our task in this exercise. Specifically, we will time-evolve a wave packet traveling towards a potential barrier and observe quantum tunneling.\n",
    "\n",
    "### Initial state\n",
    "\n",
    "We shall choose a coherent state for our initial wave function. A coherent state is a minimum uncertainty wave packet ($\\Delta x\\Delta p = \\hbar/2$) such as the ground state of a harmonic oscillator $|0\\rangle$. In general, a coherent state with average position $\\langle x\\rangle =a$ and average momentum $\\langle p\\rangle =b$ is given by the wave function [ref](http://bohr.physics.berkeley.edu/classes/221/notes/harmosc.pdf),\n",
    "\n",
    "$$\\psi_0(x) = \\frac{1}{\\pi^{1/4}} \\exp{\\left[-\\frac{(x-a)^2}{2} + ibx - \\frac{iab}{2}\\right]}$$\n",
    "\n",
    "### Q1a: Initial condition\n",
    "\n",
    "Implement the function ``psi_0`` which returns the wave function of a coherent state. ``x`` is an ndarray of positions to evaluate the wave function, ``a`` is the average position, and ``b`` is the average momentum. Your function should return an ndarray and should have *default values: ``a``=-30 and ``b``=3.*\n",
    "\n",
    "Hint: numpy can handle complex values. For example, $i\\cdot b$ = `1j*b`."
   ]
  },
  {
   "cell_type": "code",
   "execution_count": null,
   "metadata": {
    "ExecuteTime": {
     "end_time": "2021-12-29T01:43:50.068120Z",
     "start_time": "2021-12-29T01:43:50.059614Z"
    }
   },
   "outputs": [],
   "source": [
    "# write the function psi_0\n",
    "# inputs: x, a and b. a and b have default values.\n",
    "# returns: the wave function for given input.\n",
    "\n",
    "..."
   ]
  },
  {
   "cell_type": "code",
   "execution_count": null,
   "metadata": {
    "ExecuteTime": {
     "end_time": "2021-12-29T01:43:53.389258Z",
     "start_time": "2021-12-29T01:43:53.370632Z"
    }
   },
   "outputs": [],
   "source": [
    "# test your work!\n",
    "tests.run('test_1a', psi0)"
   ]
  },
  {
   "cell_type": "markdown",
   "metadata": {},
   "source": [
    "### The Hamiltonian\n",
    "\n",
    "Note: for simplicity, in this exercise we will work in atomic units (A.U.) where $e=m=\\hbar=1$. In atomic units, the characteristic quantities are:\n",
    "- Distance: is the Bohr radius $a_0 = \\hbar^2/me^2 \\text{ (G.U.)} = 0.5$ angstrom\n",
    "- Energy: is $K_0 = e^2/a_0 = 27$ eV\n",
    "- Time: is $T_0 = \\hbar^3/me^4 = 2.4\\times 10^{-17}$ sec.\n",
    "\n",
    "The Hamiltonian is given as,\n",
    "$$H = \\frac{p^2}{2} + V(x) = -\\frac{1}{2}\\frac{d^2}{dx^2} + V(x)$$\n",
    "\n",
    "### Finite difference method\n",
    "\n",
    "We will use the finite difference method to perform a numerical simulation of the Schrödinger equation. In this method, we first discretize the wave function. In other words, we define a range $[x_\\text{min}, x_\\text{max}]$ and sample $\\psi_0(x)$ in increments of $\\delta x$ within the range.\n",
    "\n",
    "### Q1b: Discretizing\n",
    "\n",
    "We have provided some default values for ``x_min``, ``x_max``, and ``delta_x``. Define the following variables:\n",
    "- ``x`` is an ndarray of x values from \\[``x_min``, ``x_max``\\] incremented by ``delta_x``\n",
    "- ``n`` is the number of samples (length of ``x``)\n",
    "- ``psi`` is the initial wave function ``psi_0`` sampled at ``x``"
   ]
  },
  {
   "cell_type": "code",
   "execution_count": null,
   "metadata": {
    "ExecuteTime": {
     "end_time": "2021-12-29T01:43:55.480129Z",
     "start_time": "2021-12-29T01:43:55.458012Z"
    }
   },
   "outputs": [],
   "source": [
    "x_min = -85\n",
    "x_max = 65\n",
    "delta_x = 0.1\n",
    "\n",
    "x = ...\n",
    "n = ...\n",
    "psi = ..."
   ]
  },
  {
   "cell_type": "code",
   "execution_count": null,
   "metadata": {
    "ExecuteTime": {
     "end_time": "2021-12-29T01:43:56.327487Z",
     "start_time": "2021-12-29T01:43:56.305363Z"
    }
   },
   "outputs": [],
   "source": [
    "# test your work!\n",
    "tests.run('test_1b', x, n, psi)"
   ]
  },
  {
   "cell_type": "markdown",
   "metadata": {},
   "source": [
    "The potential $V(x)$ is a simple square potential,\n",
    "$$V(x) = \n",
    "\\begin{cases}\n",
    "V_h,&0\\leq x\\leq V_w\\\\\n",
    "0,&\\text{else}\n",
    "\\end{cases}\n",
    "$$\n",
    "\n",
    "### Q1c: The potential\n",
    "\n",
    "You are given the values for ``v_w`` and ``v_h``. Calculate the potential ``V`` sampled at ``x``. ``V`` is an ndarray."
   ]
  },
  {
   "cell_type": "code",
   "execution_count": null,
   "metadata": {
    "ExecuteTime": {
     "end_time": "2021-12-29T01:43:57.898593Z",
     "start_time": "2021-12-29T01:43:57.893056Z"
    }
   },
   "outputs": [],
   "source": [
    "v_w = 7 # (a_0)\n",
    "v_h = 6 # (K_0)\n",
    "\n",
    "# calculate V\n"
   ]
  },
  {
   "cell_type": "code",
   "execution_count": null,
   "metadata": {
    "ExecuteTime": {
     "end_time": "2021-12-29T01:43:58.981149Z",
     "start_time": "2021-12-29T01:43:58.953323Z"
    }
   },
   "outputs": [],
   "source": [
    "# test your work!\n",
    "tests.run('test_1c', V)"
   ]
  },
  {
   "cell_type": "markdown",
   "metadata": {},
   "source": [
    "The Hamiltonian is an operator (matrix) that acts on the vector (array) ``psi``. Recall that $H = -\\frac{1}{2}\\frac{d^2}{dx^2} + V(x)$. Since ``psi`` has dimension $n$, the Hamiltonian must have dimension $n\\times n$.\n",
    "\n",
    "It is straightforward to see how we can translate $V(x)$ into a matrix: $(V(x)\\psi(x))_i = V(x_i)\\psi(x_i)$, so $V(x)$ is a diagonal matrix with elements $V_{ii} = V(x[i])$.\n",
    "\n",
    "The kinetic term is a bit tricker. For the finite difference method,\n",
    "\n",
    "$$\\frac{d^2}{dx^2} f(x[i]) \\approx \\frac{f(x[i-1])-2f(x[i])+f(x[i+1])}{\\delta x^2}$$\n",
    "\n",
    "Placing this in matrix form and combining with the potential term,\n",
    "\n",
    "$$H = \\frac{1}{2\\delta_x^2}\n",
    "\\begin{pmatrix}\n",
    " 2 & -1 & &  \\\\\n",
    " -1 & 2& -1 &  \\\\\n",
    " & -1 & 2 & -1 \\\\\n",
    " & & &  \\ddots\n",
    "\\end{pmatrix} \n",
    "+\n",
    "\\begin{pmatrix}\n",
    "  V(x[0])& & & \\\\\n",
    "  & V(x[1]) & & \\\\\n",
    " &  & V(x[2]) &\\\\\n",
    " & &  & \\ddots\n",
    "\\end{pmatrix} \n",
    "$$\n",
    "\n",
    "The unfilled spaces in the matrices are just 0.\n",
    "\n",
    "### Q1d: the Hamiltonian\n",
    "Calculate the matrix ``H``. Hint: read the documentation for the ``diags`` function in ``scipy.sparse``. Play around with the function and think about what the different arguments mean. Try copying over the examples from the documentation and working with them in this notebook. Don't forget to convert the sparse matrix into an ndarray. **Feel free to add cells and visualize the output for every step you take.**"
   ]
  },
  {
   "cell_type": "code",
   "execution_count": null,
   "metadata": {
    "ExecuteTime": {
     "end_time": "2021-12-29T01:44:02.895824Z",
     "start_time": "2021-12-29T01:44:02.874283Z"
    }
   },
   "outputs": [],
   "source": [
    "# calculate H\n"
   ]
  },
  {
   "cell_type": "code",
   "execution_count": null,
   "metadata": {
    "ExecuteTime": {
     "end_time": "2021-12-29T01:44:04.200948Z",
     "start_time": "2021-12-29T01:44:04.045700Z"
    }
   },
   "outputs": [],
   "source": [
    "tests.run('test_1d', H)"
   ]
  },
  {
   "cell_type": "markdown",
   "metadata": {},
   "source": [
    "Now, let's time evolve! Using the [Crank-Nicolson method](https://en.wikipedia.org/wiki/Finite_difference_method#Crank%E2%80%93Nicolson_method), we can discretize the Schrödinger equation as,\n",
    "\n",
    "$$\\frac{\\psi(x, t+\\delta t) - \\psi(x, t)}{dt} \\approx \\frac{1}{2i}H\\psi(x,t) + \\frac{1}{2i}H\\psi(x, t+\\delta t)$$\n",
    "\n",
    "Solving for $\\psi(x, t+\\delta t) $,\n",
    "\n",
    "$$\\psi(x, t+\\delta t) = \\underbrace{\\left(1-\\delta t\\frac{H}{2i}\\right)^{-1}\\left(1+\\delta t\\frac{H}{2i}\\right)}_\\text{CNO} \\psi(x,t)$$\n",
    "\n",
    "The dot product of the \"Crank-Nicholson Operator\" (CNO) with the state at time $t$ yields an approximation for the state at time $t+\\delta t$.\n",
    "\n",
    "### Q1e: the Crank-Nicholson operator\n",
    "\n",
    "Given ``delta_t``=0.25, calculate the Crank-Nicholson Operator ``CNO``. \n",
    "\n",
    "Hints: \n",
    "- numpy has a number of functions for performing linear algebra operations\n",
    "- In particular, read the documentation for ``numpy.identity``"
   ]
  },
  {
   "cell_type": "code",
   "execution_count": null,
   "metadata": {
    "ExecuteTime": {
     "end_time": "2021-12-29T01:44:12.830801Z",
     "start_time": "2021-12-29T01:44:11.568813Z"
    }
   },
   "outputs": [],
   "source": [
    "delta_t = 0.25\n",
    "\n",
    "#calculate CNO"
   ]
  },
  {
   "cell_type": "code",
   "execution_count": null,
   "metadata": {
    "ExecuteTime": {
     "end_time": "2021-12-29T01:44:13.895850Z",
     "start_time": "2021-12-29T01:44:13.650211Z"
    }
   },
   "outputs": [],
   "source": [
    "tests.run('test_1e', CNO)"
   ]
  },
  {
   "cell_type": "markdown",
   "metadata": {},
   "source": [
    "### Animation\n",
    "\n",
    "We're now ready to simulate! A animation of the time evolution of ``psi_0`` is provided for you. A sketch of the code:\n",
    "1. ``FuncAnimation`` calls the function ``animate`` for each frame of the animation.\n",
    "2. ``animate`` computes the time-evolved by $\\delta_t$ wave function by taking the matrix product of the current wave function with ``CNO``\n",
    "3. The animation is rendered to an html5 video which is then displayed.\n",
    "\n",
    "### Q1f: animating!\n",
    "\n",
    "Run the code below!"
   ]
  },
  {
   "cell_type": "code",
   "execution_count": null,
   "metadata": {
    "ExecuteTime": {
     "end_time": "2021-12-29T01:44:35.235248Z",
     "start_time": "2021-12-29T01:44:18.818396Z"
    },
    "scrolled": true
   },
   "outputs": [],
   "source": [
    "fig, ax = plt.subplots()\n",
    "\n",
    "axt = ax.twinx()\n",
    "axt.plot(x, V, 'r')\n",
    "axt.set_ylabel('Potential ($K_0$)')\n",
    "\n",
    "psi = psi0(x)\n",
    "wf, = ax.plot(x, abs(psi)**2)\n",
    "text = ax.text(0.05, 0.95, '', horizontalalignment='left', verticalalignment='top', transform=ax.transAxes)\n",
    "ax.set_xlabel('Position ($a_0$)')\n",
    "ax.set_ylabel('Probability density ($a_0^{-1}$)')\n",
    "\n",
    "print('Frame: 0', end='')\n",
    "def animate(i):\n",
    "    global psi\n",
    "    psi = np.dot(CNO, psi)\n",
    "    wf.set_ydata(abs(psi)**2)\n",
    "    text.set_text(f'$t=${i*0.024:.3f} fs')\n",
    "    print(f'\\rFrame: {i+1}', end='', flush=True)\n",
    "    return wf,\n",
    "\n",
    "anim = animation.FuncAnimation(fig, animate, frames = 190, interval = 100)\n",
    "\n",
    "video = anim.to_html5_video()\n",
    "html = display.HTML(video)\n",
    "display.display(html)\n",
    "plt.close()    "
   ]
  },
  {
   "cell_type": "markdown",
   "metadata": {},
   "source": [
    "Notice in the simulation that there is a non-zero probability density that appears to the right of the potential barrier. We refer to this as quantum tunneling. Allow me to make some remarks.\n",
    "\n",
    "**\\[Optional remarks\\]**: In quantum mechanics courses, the issue of tunneling is often treated in the case where a plane wave travels towards a potential barrier. Solving for solutions to the time-independent Schrödinger equation, the energy eigenstate has a non-zero probability density to the right of the potential. However, this example is not physical because a plane wave is not normalizable. In other words, the wave function can never actually be a plane wave. Coherent states *are* physical states (that are linear combinations of plane waves); hence, our simulation is more realistic in this respect.\n",
    "\n",
    "However, a coherent state is not a energy eigenstate. This begs the question: what does it mean to say the particle has tunneled? In the case of a plane wave with energy eigenvalue E, if E$<V_h$ (the height of the barrier), we say that a classical particle with similar energy can not be observed on the other side of the barrier---hence the quantum particle must have tunneled through. (Although...we must be careful even with this analogy: when we measure the position of the particle, the wave function is projected onto a state that is no longer an energy eigenstate.)\n",
    "\n",
    "It is difficult to find such an analogy for a coherent state. Perhaps we can define E, the energy of the particle in the classical limit, as $\\langle p\\rangle^2/2$. But we can find $\\psi_0(x)$ to have larger values of momentum than $\\langle p\\rangle$ with relatively large probabilities, so this is not entirely convincing. Perhaps $E = p_\\text{max}^2/2$ where $p_\\text{max}$ is the maximum value of momentum we can measure $\\psi_0(x)$. But, the momentum space wave function of a Gaussian (e.g. the coherent state with $\\langle x\\rangle = \\langle p\\rangle=0$) is Gaussian, so $p_\\text{max}$ is unbounded and tunneling is not classically forbidden.\n",
    "\n",
    "Perhaps these two arguments taken together give us the most sensible interpretation: in the classical limit, we might expect the distribution of momentum to approach $\\langle p\\rangle$ and $\\Delta p$ to approach 0. Therefore, if $\\langle p\\rangle^2/2<V_h$, the probability of measuring the particle to be in a sufficiently large momentum state ($p^2/2>V_h$) approaches zero: *tunneling is clasically allowed, but highly improbable*. On the length and energy scales of an electron, tunneling is a common affair; but on human scales, the probability is non-zero, but so small as to be forbidden for all intents and purposes."
   ]
  },
  {
   "cell_type": "markdown",
   "metadata": {},
   "source": [
    "### Q1g: normalization\n",
    "\n",
    "Time evolution is unitary (preserves normalization). In other words, we expect,\n",
    "$$\\int |\\psi(x',t)|^2dx' = \\int |\\psi(x',t+\\delta_t)|^2dx' = 1$$\n",
    "\n",
    "Show that this is indeed the case. In other words, ``psi`` has now been time-evolved to the final wave function. Calculate, ``norm`` = $\\delta_x\\cdot \\sum |\\psi(x[i])|^2 $, which we expect to have value 1.\n"
   ]
  },
  {
   "cell_type": "code",
   "execution_count": null,
   "metadata": {
    "ExecuteTime": {
     "end_time": "2021-12-27T03:45:35.425447Z",
     "start_time": "2021-12-27T03:45:35.401011Z"
    }
   },
   "outputs": [],
   "source": [
    "norm = ...\n",
    "print(f'Norm: {norm}')"
   ]
  },
  {
   "cell_type": "code",
   "execution_count": null,
   "metadata": {
    "ExecuteTime": {
     "end_time": "2021-12-27T03:45:36.233470Z",
     "start_time": "2021-12-27T03:45:36.205313Z"
    },
    "scrolled": true
   },
   "outputs": [],
   "source": [
    "tests.run('test_1g', norm)"
   ]
  },
  {
   "cell_type": "markdown",
   "metadata": {
    "ExecuteTime": {
     "end_time": "2021-12-26T20:50:23.138898Z",
     "start_time": "2021-12-26T20:50:23.103282Z"
    }
   },
   "source": [
    "## Submission\n",
    "\n",
    "Check to make sure that you have answered all questions. Run all the cells so that all output is visible. Finally, export this notebook as a PDF (File/Download As/PDF via LaTeX (.pdf)) and submit to bCourses.\n",
    "\n",
    "Inspired by a similar blog-series by Patrick Gono. Created and edited by the ULAB staff. Last updated: December 2021."
   ]
  }
 ],
 "metadata": {
  "kernelspec": {
   "display_name": "Python 3 (ipykernel)",
   "language": "python",
   "name": "python3"
  },
  "language_info": {
   "codemirror_mode": {
    "name": "ipython",
    "version": 3
   },
   "file_extension": ".py",
   "mimetype": "text/x-python",
   "name": "python",
   "nbconvert_exporter": "python",
   "pygments_lexer": "ipython3",
   "version": "3.8.5"
  },
  "toc": {
   "base_numbering": 1,
   "nav_menu": {},
   "number_sections": false,
   "sideBar": true,
   "skip_h1_title": false,
   "title_cell": "Table of Contents",
   "title_sidebar": "Contents",
   "toc_cell": false,
   "toc_position": {},
   "toc_section_display": true,
   "toc_window_display": true
  }
 },
 "nbformat": 4,
 "nbformat_minor": 2
}
